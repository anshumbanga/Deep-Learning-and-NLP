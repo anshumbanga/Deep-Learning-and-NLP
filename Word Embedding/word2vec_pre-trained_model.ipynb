{
 "cells": [
  {
   "cell_type": "markdown",
   "id": "ea4902ad-dea6-4475-a70f-f5ab3ab9acc5",
   "metadata": {},
   "source": [
    "**Word2Vec** is a popular **word embedding technique** developed by a team at Google, used to convert words into **dense numerical vectors** that capture **semantic relationships** between them.\n",
    "\n",
    "---\n",
    "\n",
    "### **Core Idea:**\n",
    "\n",
    "Word2Vec transforms words into vectors in such a way that **words with similar meanings** have **similar vectors** (i.e., they lie close together in the vector space).\n",
    "\n",
    "---\n",
    "\n",
    "###  **How it works:**\n",
    "\n",
    "It uses a **shallow neural network** trained on large text corpora using one of two methods:\n",
    "\n",
    "#### 1. **CBOW (Continuous Bag of Words)**\n",
    "\n",
    "* Predicts the **target word** from the surrounding context words.\n",
    "* Example: Given “I \\_\\_\\_ football every weekend”, predict the word “play”.\n",
    "\n",
    "#### 2. **Skip-gram**\n",
    "\n",
    "* Predicts the **context words** from a single target word.\n",
    "* Example: Given the word “play”, predict words like “I”, “football”, “weekend”.\n",
    "\n",
    "---\n",
    "\n",
    "### **Output:**\n",
    "\n",
    "Each word gets represented as a vector (e.g., 100 or 300 dimensions) such that:\n",
    "\n",
    "* **king - man + woman ≈ queen**\n",
    "* **Paris - France + Italy ≈ Rome**\n",
    "\n",
    "---\n",
    "\n",
    "### **Advantages:**\n",
    "\n",
    "* Captures **semantic meaning** of words.\n",
    "* Works well for **analogies and word similarities**.\n",
    "* Vectors are dense (unlike sparse matrices from BoW or TF-IDF).\n",
    "\n",
    "---\n",
    "\n",
    "### **Disadvantages:**\n",
    "\n",
    "* Ignores **word order** and **grammar**.\n",
    "* Doesn't handle **out-of-vocabulary** words well.\n",
    "* Can't capture **polysemy** (same word, different meanings) directly.\n"
   ]
  },
  {
   "cell_type": "code",
   "execution_count": 1,
   "id": "b4b90372-fa10-47e9-8a49-c11c4d30cbb7",
   "metadata": {},
   "outputs": [],
   "source": [
    "# self trained model \n",
    "\n",
    "import gensim \n",
    "from gensim.models import Word2Vec,KeyedVectors"
   ]
  },
  {
   "cell_type": "code",
   "execution_count": 3,
   "id": "b2a34d04-7fed-4967-bcb8-0d6e7790ad3e",
   "metadata": {},
   "outputs": [],
   "source": [
    "model = KeyedVectors.load_word2vec_format(\"GoogleNews-vectors-negative300.bin\", binary=True)"
   ]
  },
  {
   "cell_type": "code",
   "execution_count": 6,
   "id": "26671e1d-845c-4e70-8213-c2e4faee539c",
   "metadata": {},
   "outputs": [
    {
     "data": {
      "text/plain": [
       "(300,)"
      ]
     },
     "execution_count": 6,
     "metadata": {},
     "output_type": "execute_result"
    }
   ],
   "source": [
    "model['cricket'].shape \n",
    "# as you can see, the word is distributed into 300 values "
   ]
  },
  {
   "cell_type": "code",
   "execution_count": 7,
   "id": "3015a9bd-fa4f-460b-8228-34c265a003a5",
   "metadata": {},
   "outputs": [
    {
     "data": {
      "text/plain": [
       "[('woman', 0.7664011716842651),\n",
       " ('boy', 0.6824871301651001),\n",
       " ('teenager', 0.6586929559707642),\n",
       " ('teenage_girl', 0.6147903203964233),\n",
       " ('girl', 0.5921714305877686),\n",
       " ('suspected_purse_snatcher', 0.5716364979743958),\n",
       " ('robber', 0.5585119128227234),\n",
       " ('Robbery_suspect', 0.5584410429000854),\n",
       " ('teen_ager', 0.5549196600914001),\n",
       " ('men', 0.5489761233329773)]"
      ]
     },
     "execution_count": 7,
     "metadata": {},
     "output_type": "execute_result"
    }
   ],
   "source": [
    "model.most_similar('man')"
   ]
  },
  {
   "cell_type": "code",
   "execution_count": 8,
   "id": "1856e8ab-4304-4687-b925-c8004966bed0",
   "metadata": {},
   "outputs": [
    {
     "data": {
      "text/plain": [
       "[('film', 0.8676772117614746),\n",
       " ('movies', 0.8013108372688293),\n",
       " ('films', 0.7363011837005615),\n",
       " ('moive', 0.6830361485481262),\n",
       " ('Movie', 0.6693680286407471),\n",
       " ('horror_flick', 0.6577848792076111),\n",
       " ('sequel', 0.6577793955802917),\n",
       " ('Guy_Ritchie_Revolver', 0.6509751677513123),\n",
       " ('romantic_comedy', 0.6413198709487915),\n",
       " ('flick', 0.6321909427642822)]"
      ]
     },
     "execution_count": 8,
     "metadata": {},
     "output_type": "execute_result"
    }
   ],
   "source": [
    "model.most_similar('movie')"
   ]
  },
  {
   "cell_type": "code",
   "execution_count": 9,
   "id": "30e33e5e-17a9-4eb7-8f71-4af566e18521",
   "metadata": {},
   "outputs": [
    {
     "data": {
      "text/plain": [
       "[('wars', 0.7484657764434814),\n",
       " ('War', 0.6410669684410095),\n",
       " ('invasion', 0.5892110466957092),\n",
       " ('Persian_Gulf_War', 0.5890660285949707),\n",
       " ('Vietnam_War', 0.5886476039886475),\n",
       " ('Iraq', 0.5885993242263794),\n",
       " ('unwinnable_quagmire', 0.5681803226470947),\n",
       " ('un_winnable', 0.5606350302696228),\n",
       " ('occupation', 0.5506216883659363),\n",
       " ('conflict', 0.5506187081336975)]"
      ]
     },
     "execution_count": 9,
     "metadata": {},
     "output_type": "execute_result"
    }
   ],
   "source": [
    "model.most_similar('war')"
   ]
  },
  {
   "cell_type": "code",
   "execution_count": 12,
   "id": "48e61b92-27fc-4455-b8a8-ac524be54f0d",
   "metadata": {},
   "outputs": [
    {
     "data": {
      "text/plain": [
       "[('queen', 0.7118191123008728),\n",
       " ('monarch', 0.6189674735069275),\n",
       " ('princess', 0.5902430415153503),\n",
       " ('crown_prince', 0.5499458909034729),\n",
       " ('prince', 0.5377322435379028),\n",
       " ('kings', 0.5236843824386597),\n",
       " ('Queen_Consort', 0.5235945582389832),\n",
       " ('queens', 0.5181134939193726),\n",
       " ('sultan', 0.5098593235015869),\n",
       " ('monarchy', 0.5087411403656006)]"
      ]
     },
     "execution_count": 12,
     "metadata": {},
     "output_type": "execute_result"
    }
   ],
   "source": [
    "# analogies \n",
    "model.most_similar(positive=[\"woman\", \"king\"], negative=[\"man\"])\n",
    "# Expected: queen\n",
    "\n",
    "# king-man + woman = Queen "
   ]
  },
  {
   "cell_type": "code",
   "execution_count": 15,
   "id": "b9bf1037-c44b-43a9-aac7-ff17dc3d05e4",
   "metadata": {},
   "outputs": [
    {
     "data": {
      "text/plain": [
       "0.76094574"
      ]
     },
     "execution_count": 15,
     "metadata": {},
     "output_type": "execute_result"
    }
   ],
   "source": [
    "model.similarity('cat','dog')\n",
    "\n",
    "# similarity score "
   ]
  },
  {
   "cell_type": "code",
   "execution_count": 16,
   "id": "a382c14e-2518-49aa-a689-3ea7baa46f30",
   "metadata": {},
   "outputs": [
    {
     "data": {
      "text/plain": [
       "'banana'"
      ]
     },
     "execution_count": 16,
     "metadata": {},
     "output_type": "execute_result"
    }
   ],
   "source": [
    "model.doesnt_match([\"breakfast\", \"dinner\", \"lunch\", \"banana\"])"
   ]
  },
  {
   "cell_type": "code",
   "execution_count": 17,
   "id": "2b974d6f-baa6-4f60-8b22-5d8a8c878718",
   "metadata": {},
   "outputs": [
    {
     "data": {
      "text/plain": [
       "[('nurses', 0.5750778913497925),\n",
       " ('medic', 0.5732707977294922),\n",
       " ('registered_nurse', 0.5555101037025452),\n",
       " ('x_ray_technician', 0.5553551316261292),\n",
       " ('Nurse', 0.5527041554450989),\n",
       " ('doctor', 0.542094886302948),\n",
       " ('respiratory_therapist', 0.5328323245048523),\n",
       " ('nursing', 0.5252007842063904),\n",
       " ('paramedic', 0.5221819281578064),\n",
       " ('physician', 0.500717043876648)]"
      ]
     },
     "execution_count": 17,
     "metadata": {},
     "output_type": "execute_result"
    }
   ],
   "source": [
    "model.most_similar(positive=[\"man\", \"nurse\"], negative=[\"woman\"])"
   ]
  },
  {
   "cell_type": "code",
   "execution_count": 22,
   "id": "0faf34cc-652d-4aeb-bb4c-f1f746bec4b5",
   "metadata": {},
   "outputs": [
    {
     "data": {
      "text/plain": [
       "0     -0.031787\n",
       "1      0.017822\n",
       "2      0.059863\n",
       "3      0.146631\n",
       "4     -0.094458\n",
       "         ...   \n",
       "295   -0.047931\n",
       "296   -0.007642\n",
       "297   -0.098560\n",
       "298   -0.024707\n",
       "299    0.045444\n",
       "Length: 300, dtype: float32"
      ]
     },
     "execution_count": 22,
     "metadata": {},
     "output_type": "execute_result"
    }
   ],
   "source": [
    "# text vectorisation for nlp tasks \n",
    "\n",
    "import numpy as np\n",
    "import pandas as pd\n",
    "\n",
    "def sentence_vector(sentence):\n",
    "    words = [word for word in sentence.lower().split() if word in model]\n",
    "    return np.mean([model[word] for word in words], axis=0) if words else np.zeros(300)\n",
    "\n",
    "vec = sentence_vector(\"I love natural language processing\")\n",
    "pd.Series(vec)"
   ]
  },
  {
   "cell_type": "code",
   "execution_count": 23,
   "id": "3d7f2119-37db-4ca8-a95b-8b535fc4a6bc",
   "metadata": {},
   "outputs": [
    {
     "data": {
      "text/plain": [
       "0     -0.071472\n",
       "1      0.024292\n",
       "2      0.132496\n",
       "3      0.149841\n",
       "4     -0.031219\n",
       "         ...   \n",
       "295   -0.001678\n",
       "296    0.044617\n",
       "297   -0.058624\n",
       "298    0.016479\n",
       "299   -0.006271\n",
       "Length: 300, dtype: float32"
      ]
     },
     "execution_count": 23,
     "metadata": {},
     "output_type": "execute_result"
    }
   ],
   "source": [
    "vec = sentence_vector(\"I like data science\")\n",
    "pd.Series(vec)"
   ]
  },
  {
   "cell_type": "code",
   "execution_count": null,
   "id": "03f1981d-c721-461a-befa-8fa97f048eb1",
   "metadata": {},
   "outputs": [],
   "source": []
  }
 ],
 "metadata": {
  "kernelspec": {
   "display_name": "Python 3 (ipykernel)",
   "language": "python",
   "name": "python3"
  },
  "language_info": {
   "codemirror_mode": {
    "name": "ipython",
    "version": 3
   },
   "file_extension": ".py",
   "mimetype": "text/x-python",
   "name": "python",
   "nbconvert_exporter": "python",
   "pygments_lexer": "ipython3",
   "version": "3.11.7"
  }
 },
 "nbformat": 4,
 "nbformat_minor": 5
}
