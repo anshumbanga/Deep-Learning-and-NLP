{
  "cells": [
    {
      "cell_type": "code",
      "execution_count": null,
      "id": "51f7aca2-f808-4403-8aec-46cb86ccbf8e",
      "metadata": {
        "id": "51f7aca2-f808-4403-8aec-46cb86ccbf8e"
      },
      "outputs": [],
      "source": [
        "from sklearn.feature_extraction.text import CountVectorizer"
      ]
    },
    {
      "cell_type": "code",
      "execution_count": null,
      "id": "4dee5742-62c1-4319-a936-769a03968e0f",
      "metadata": {
        "id": "4dee5742-62c1-4319-a936-769a03968e0f"
      },
      "outputs": [],
      "source": [
        "sentences = [\"I love NLP\", \"NLP is fun\", \"I love fun\"]"
      ]
    },
    {
      "cell_type": "code",
      "execution_count": null,
      "id": "833fae67-9019-4e57-8973-a1fdc775a41e",
      "metadata": {
        "id": "833fae67-9019-4e57-8973-a1fdc775a41e"
      },
      "outputs": [],
      "source": [
        "# Initialize CountVectorizer with binary=True for one-hot encoding\n",
        "vectorizer = CountVectorizer(binary=True)\n",
        "\n",
        "# Fit and transform the sentences\n",
        "x = vectorizer.fit_transform(sentences)"
      ]
    },
    {
      "cell_type": "code",
      "execution_count": null,
      "id": "867b21f2-5d95-462b-a081-7fd833a87808",
      "metadata": {
        "id": "867b21f2-5d95-462b-a081-7fd833a87808",
        "outputId": "75e22b36-69e2-4fb0-9a43-8d7f79b09651"
      },
      "outputs": [
        {
          "data": {
            "text/plain": [
              "array([[0, 0, 1, 1],\n",
              "       [1, 1, 0, 1],\n",
              "       [1, 0, 1, 0]], dtype=int64)"
            ]
          },
          "execution_count": 14,
          "metadata": {},
          "output_type": "execute_result"
        }
      ],
      "source": [
        "one_hot_matrix = x.toarray()\n",
        "one_hot_matrix"
      ]
    },
    {
      "cell_type": "code",
      "execution_count": null,
      "id": "1f0ee231-ec95-44f0-adcd-4e33c2ac3492",
      "metadata": {
        "id": "1f0ee231-ec95-44f0-adcd-4e33c2ac3492"
      },
      "outputs": [],
      "source": [
        "vocab = vectorizer.get_feature_names_out()"
      ]
    },
    {
      "cell_type": "code",
      "execution_count": null,
      "id": "e0cea44b-9104-4d8c-8f89-472a851be768",
      "metadata": {
        "id": "e0cea44b-9104-4d8c-8f89-472a851be768",
        "outputId": "3b56d162-1c2e-410c-b4e0-43f3a52f938c"
      },
      "outputs": [
        {
          "data": {
            "text/html": [
              "<div>\n",
              "<style scoped>\n",
              "    .dataframe tbody tr th:only-of-type {\n",
              "        vertical-align: middle;\n",
              "    }\n",
              "\n",
              "    .dataframe tbody tr th {\n",
              "        vertical-align: top;\n",
              "    }\n",
              "\n",
              "    .dataframe thead th {\n",
              "        text-align: right;\n",
              "    }\n",
              "</style>\n",
              "<table border=\"1\" class=\"dataframe\">\n",
              "  <thead>\n",
              "    <tr style=\"text-align: right;\">\n",
              "      <th></th>\n",
              "      <th>fun</th>\n",
              "      <th>is</th>\n",
              "      <th>love</th>\n",
              "      <th>nlp</th>\n",
              "    </tr>\n",
              "  </thead>\n",
              "  <tbody>\n",
              "    <tr>\n",
              "      <th>0</th>\n",
              "      <td>0</td>\n",
              "      <td>0</td>\n",
              "      <td>1</td>\n",
              "      <td>1</td>\n",
              "    </tr>\n",
              "    <tr>\n",
              "      <th>1</th>\n",
              "      <td>1</td>\n",
              "      <td>1</td>\n",
              "      <td>0</td>\n",
              "      <td>1</td>\n",
              "    </tr>\n",
              "    <tr>\n",
              "      <th>2</th>\n",
              "      <td>1</td>\n",
              "      <td>0</td>\n",
              "      <td>1</td>\n",
              "      <td>0</td>\n",
              "    </tr>\n",
              "  </tbody>\n",
              "</table>\n",
              "</div>"
            ],
            "text/plain": [
              "   fun  is  love  nlp\n",
              "0    0   0     1    1\n",
              "1    1   1     0    1\n",
              "2    1   0     1    0"
            ]
          },
          "execution_count": 16,
          "metadata": {},
          "output_type": "execute_result"
        }
      ],
      "source": [
        "import pandas as pd\n",
        "pd.DataFrame(one_hot_matrix,columns=vocab)"
      ]
    },
    {
      "cell_type": "markdown",
      "source": [
        "### **Advantages of One-Hot Encoding**\n",
        "\n",
        "* **Simple to implement**: Easy to understand and apply to small vocabularies.\n",
        "* **Works well with algorithms** that assume categorical input (e.g., decision trees, naive Bayes).\n",
        "\n",
        "---\n",
        "\n",
        "### **Disadvantages of One-Hot Encoding**\n",
        "\n",
        "* ** Sparse Matrix**:\n",
        "  It creates high-dimensional vectors where most elements are 0 (e.g., vocab size of 10,000 → each word = 10,000-length vector). This wastes memory and slows down computations.\n",
        "\n",
        "* ** No Semantic Meaning**:\n",
        "  One-hot vectors don’t capture relationships or meanings between words. For example:\n",
        "\n",
        "  * \"king\" and \"queen\" are just as different as \"king\" and \"banana\".\n",
        "  * No similarity or context is retained.\n",
        "\n",
        "* ** No Fixed Vector Size Across Datasets**:\n",
        "  The vector size depends on the vocabulary size. If new data has new words, the model needs retraining or re-vectorization, making it hard to scale or generalize.\n",
        "\n",
        "* ** Out of Vocabulary (OOV) Problem**:\n",
        "  If the model sees a word at inference time that wasn’t in the training vocabulary, it can’t be encoded — resulting in loss of data or errors.\n"
      ],
      "metadata": {
        "id": "zFPyUUI3ewwK"
      },
      "id": "zFPyUUI3ewwK"
    },
    {
      "cell_type": "code",
      "execution_count": null,
      "id": "666da042-c0c8-4c44-9483-065cb61f2f2d",
      "metadata": {
        "id": "666da042-c0c8-4c44-9483-065cb61f2f2d"
      },
      "outputs": [],
      "source": []
    }
  ],
  "metadata": {
    "kernelspec": {
      "display_name": "Python 3 (ipykernel)",
      "language": "python",
      "name": "python3"
    },
    "language_info": {
      "codemirror_mode": {
        "name": "ipython",
        "version": 3
      },
      "file_extension": ".py",
      "mimetype": "text/x-python",
      "name": "python",
      "nbconvert_exporter": "python",
      "pygments_lexer": "ipython3",
      "version": "3.11.7"
    },
    "colab": {
      "provenance": []
    }
  },
  "nbformat": 4,
  "nbformat_minor": 5
}