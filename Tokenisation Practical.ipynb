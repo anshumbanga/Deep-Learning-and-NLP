{
 "cells": [
  {
   "cell_type": "markdown",
   "id": "4d294993-dab3-4408-a0ee-ee33166d6eb5",
   "metadata": {},
   "source": [
    "## NLP Key Terms: Corpus, Documents, Words, Vocabulary\n",
    "\n",
    "---\n",
    "\n",
    "### 1. Corpus\n",
    "- A **corpus** is a **collection of documents or texts**.\n",
    "- It is the **complete dataset** that contains all the text data.\n",
    "- Used as the input for NLP tasks.\n",
    "\n",
    "> Example: All reviews on an e-commerce site.\n",
    "\n",
    "---\n",
    "\n",
    "### 2. Document\n",
    "- A **document** is a **single piece of text** from the corpus.\n",
    "- It can be a paragraph, a sentence, or even a short message.\n",
    "\n",
    "> Example: One review, one tweet, or one paragraph.\n",
    "\n",
    "---\n",
    "\n",
    "### 3. Word\n",
    "- A **word** is the **smallest unit** of text.\n",
    "- It is obtained by **tokenizing** a document.\n",
    "\n",
    "> Example: In “I love data science”, the words are: I, love, data, science.\n",
    "\n",
    "---\n",
    "\n",
    "### 4. Vocabulary\n",
    "- The **vocabulary** is the **set of all unique words** in the entire corpus.\n",
    "- No repetitions — each word appears only once in the vocabulary.\n",
    "\n",
    "> Example: From [\"I love NLP\", \"NLP is fun\"],  \n",
    "> Vocabulary = {I, love, NLP, is, fun}\n",
    "\n",
    "---\n",
    "\n",
    "### Quick Analogy (for understanding)\n",
    "\n",
    "| Concept     | Analogy Example                |\n",
    "|-------------|--------------------------------|\n",
    "| Corpus      | Book / Full Collection         |\n",
    "| Document    | Paragraph / Sentence           |\n",
    "| Word        | Individual word                |\n",
    "| Vocabulary  | Unique words used in the book  |\n"
   ]
  },
  {
   "cell_type": "code",
   "execution_count": 3,
   "id": "322be5d3-b045-4ff8-955d-e9cba5159d66",
   "metadata": {},
   "outputs": [
    {
     "name": "stdout",
     "output_type": "stream",
     "text": [
      "Requirement already satisfied: nltk in c:\\users\\anshum banga\\anaconda3\\lib\\site-packages (3.8.1)\n",
      "Requirement already satisfied: click in c:\\users\\anshum banga\\anaconda3\\lib\\site-packages (from nltk) (8.1.7)\n",
      "Requirement already satisfied: joblib in c:\\users\\anshum banga\\anaconda3\\lib\\site-packages (from nltk) (1.2.0)\n",
      "Requirement already satisfied: regex>=2021.8.3 in c:\\users\\anshum banga\\anaconda3\\lib\\site-packages (from nltk) (2023.10.3)\n",
      "Requirement already satisfied: tqdm in c:\\users\\anshum banga\\anaconda3\\lib\\site-packages (from nltk) (4.65.0)\n",
      "Requirement already satisfied: colorama in c:\\users\\anshum banga\\anaconda3\\lib\\site-packages (from click->nltk) (0.4.6)\n",
      "Note: you may need to restart the kernel to use updated packages.\n"
     ]
    }
   ],
   "source": [
    "pip install nltk"
   ]
  },
  {
   "cell_type": "code",
   "execution_count": 6,
   "id": "beea06d7-d979-4adb-ad75-7313a32497dd",
   "metadata": {},
   "outputs": [],
   "source": [
    "corpus = '''Hey there! Welcome to Anshum Banga’s NLP tutorials.\n",
    "Dive into the full course on GitHub, and soon you'll be talking to machines like they’re your best friend.\n",
    "Don’t rush, though — even computers need some time to understand us.\n",
    "'''"
   ]
  },
  {
   "cell_type": "code",
   "execution_count": 7,
   "id": "8f769f73-147c-4895-a753-9217ac6cd7c2",
   "metadata": {},
   "outputs": [
    {
     "name": "stdout",
     "output_type": "stream",
     "text": [
      "Hey there! Welcome to Anshum Banga’s NLP tutorials.\n",
      "Dive into the full course on GitHub, and soon you'll be talking to machines like they’re your best friend.\n",
      "Don’t rush, though — even computers need some time to understand us.\n",
      "\n"
     ]
    }
   ],
   "source": [
    "print(corpus)"
   ]
  },
  {
   "cell_type": "code",
   "execution_count": 8,
   "id": "8f8dacf9-febc-4fae-b906-f73b89dcc169",
   "metadata": {},
   "outputs": [],
   "source": [
    "# Toekenisation \n",
    "\n",
    "# converting sentences to paragraphs \n",
    "\n",
    "from nltk.tokenize import sent_tokenize\n",
    "\n",
    "# this would help us to convert parapraphs into sentences"
   ]
  },
  {
   "cell_type": "code",
   "execution_count": 12,
   "id": "e4bfeb98-7aa6-49a5-a57a-84a2069b5166",
   "metadata": {},
   "outputs": [
    {
     "data": {
      "text/plain": [
       "['Hey there!',\n",
       " 'Welcome to Anshum Banga’s NLP tutorials.',\n",
       " \"Dive into the full course on GitHub, and soon you'll be talking to machines like they’re your best friend.\",\n",
       " 'Don’t rush, though — even computers need some time to understand us.']"
      ]
     },
     "execution_count": 12,
     "metadata": {},
     "output_type": "execute_result"
    }
   ],
   "source": [
    "sent_tokenize(corpus)\n",
    "# As we can see, the tokenizer splits the text into sentences\n",
    "# It incorrectly considers a period ('.') as the end of a sentence\n",
    "# Similarly, it treats an exclamation mark ('!') as a sentence boundary\n",
    "# This leads to incorrect sentence segmentation in cases where punctuation marks are used in different contexts\n",
    "\n",
    "documents = sent_tokenize(corpus)\n",
    "documents"
   ]
  },
  {
   "cell_type": "code",
   "execution_count": 13,
   "id": "3aafe3f6-38cf-4fac-8926-6baa20b8809f",
   "metadata": {},
   "outputs": [
    {
     "name": "stdout",
     "output_type": "stream",
     "text": [
      "Hey there!\n",
      "Welcome to Anshum Banga’s NLP tutorials.\n",
      "Dive into the full course on GitHub, and soon you'll be talking to machines like they’re your best friend.\n",
      "Don’t rush, though — even computers need some time to understand us.\n"
     ]
    }
   ],
   "source": [
    "# loops \n",
    "\n",
    "for i in documents:\n",
    "    print(i)"
   ]
  },
  {
   "cell_type": "code",
   "execution_count": 14,
   "id": "805c2a39-add1-4833-bb84-719f50444d07",
   "metadata": {},
   "outputs": [],
   "source": [
    "## Second Type of Tokenisation \n",
    "# Convert Paragraph into words \n",
    "# convert sentences into words "
   ]
  },
  {
   "cell_type": "code",
   "execution_count": 15,
   "id": "dec057f6-372d-4650-8c11-5af912b931e5",
   "metadata": {},
   "outputs": [],
   "source": [
    "from nltk.tokenize import word_tokenize"
   ]
  },
  {
   "cell_type": "code",
   "execution_count": 17,
   "id": "0c9a8831-3cb6-4cf3-8397-206a6c2c8684",
   "metadata": {},
   "outputs": [
    {
     "name": "stdout",
     "output_type": "stream",
     "text": [
      "['Hey', 'there', '!', 'Welcome', 'to', 'Anshum', 'Banga', '’', 's', 'NLP', 'tutorials', '.', 'Dive', 'into', 'the', 'full', 'course', 'on', 'GitHub', ',', 'and', 'soon', 'you', \"'ll\", 'be', 'talking', 'to', 'machines', 'like', 'they', '’', 're', 'your', 'best', 'friend', '.', 'Don', '’', 't', 'rush', ',', 'though', '—', 'even', 'computers', 'need', 'some', 'time', 'to', 'understand', 'us', '.']\n"
     ]
    }
   ],
   "source": [
    "print(word_tokenize(corpus))\n",
    "\n",
    "# Here, you can see that each word is separated individually.\n",
    "# Why do we do this? Because every word carries its own significance in understanding the meaning of the sentence."
   ]
  },
  {
   "cell_type": "code",
   "execution_count": 19,
   "id": "52f854e2-6376-424c-852d-7443d0f24a52",
   "metadata": {},
   "outputs": [
    {
     "name": "stdout",
     "output_type": "stream",
     "text": [
      "['Hey', 'there', '!']\n",
      "['Welcome', 'to', 'Anshum', 'Banga', '’', 's', 'NLP', 'tutorials', '.']\n",
      "['Dive', 'into', 'the', 'full', 'course', 'on', 'GitHub', ',', 'and', 'soon', 'you', \"'ll\", 'be', 'talking', 'to', 'machines', 'like', 'they', '’', 're', 'your', 'best', 'friend', '.']\n",
      "['Don', '’', 't', 'rush', ',', 'though', '—', 'even', 'computers', 'need', 'some', 'time', 'to', 'understand', 'us', '.']\n"
     ]
    }
   ],
   "source": [
    "for sentences in documents:\n",
    "    print(word_tokenize(sentences))"
   ]
  },
  {
   "cell_type": "code",
   "execution_count": 20,
   "id": "212b5f55-f80f-4331-9210-d0371990a76e",
   "metadata": {},
   "outputs": [],
   "source": [
    "# wordpunkt_tokenize \n",
    "\n",
    "from nltk.tokenize import wordpunct_tokenize"
   ]
  },
  {
   "cell_type": "code",
   "execution_count": 22,
   "id": "7ebb4fbe-bc50-4c74-a6aa-7e15e6abe469",
   "metadata": {},
   "outputs": [
    {
     "name": "stdout",
     "output_type": "stream",
     "text": [
      "['Hey', 'there', '!', 'Welcome', 'to', 'Anshum', 'Banga', '’', 's', 'NLP', 'tutorials', '.', 'Dive', 'into', 'the', 'full', 'course', 'on', 'GitHub', ',', 'and', 'soon', 'you', \"'\", 'll', 'be', 'talking', 'to', 'machines', 'like', 'they', '’', 're', 'your', 'best', 'friend', '.', 'Don', '’', 't', 'rush', ',', 'though', '—', 'even', 'computers', 'need', 'some', 'time', 'to', 'understand', 'us', '.']\n"
     ]
    }
   ],
   "source": [
    "print(wordpunct_tokenize(corpus))\n",
    "\n",
    "# The function wordpunct_tokenize(corpus) splits the text into individual words and punctuation marks.\n",
    "# It tokenizes the corpus into a list of words while keeping punctuation as separate tokens.\n",
    "# This is useful when we want to handle punctuation separately or analyze word-punctuation combinations."
   ]
  },
  {
   "cell_type": "code",
   "execution_count": 28,
   "id": "d11f018e-4ccd-428a-96ce-8a03c2f76786",
   "metadata": {},
   "outputs": [],
   "source": [
    "# tree bank word tokeniser \n",
    "\n",
    "from nltk.tokenize import TreebankWordTokenizer"
   ]
  },
  {
   "cell_type": "code",
   "execution_count": 29,
   "id": "cfc67bdd-4032-4e31-a525-cb98d8e588c7",
   "metadata": {},
   "outputs": [
    {
     "data": {
      "text/plain": [
       "<nltk.tokenize.treebank.TreebankWordTokenizer at 0x213fd94b1d0>"
      ]
     },
     "execution_count": 29,
     "metadata": {},
     "output_type": "execute_result"
    }
   ],
   "source": [
    "tokenizer = TreebankWordTokenizer()\n",
    "tokenizer"
   ]
  },
  {
   "cell_type": "code",
   "execution_count": 32,
   "id": "43913249-f193-4c90-932d-c5e46eefb1e8",
   "metadata": {},
   "outputs": [
    {
     "name": "stdout",
     "output_type": "stream",
     "text": [
      "['Hey', 'there', '!', 'Welcome', 'to', 'Anshum', 'Banga’s', 'NLP', 'tutorials.', 'Dive', 'into', 'the', 'full', 'course', 'on', 'GitHub', ',', 'and', 'soon', 'you', \"'ll\", 'be', 'talking', 'to', 'machines', 'like', 'they’re', 'your', 'best', 'friend.', 'Don’t', 'rush', ',', 'though', '—', 'even', 'computers', 'need', 'some', 'time', 'to', 'understand', 'us', '.']\n"
     ]
    }
   ],
   "source": [
    "print(tokenizer.tokenize(corpus))\n",
    "\n",
    "#The TreebankWordTokenizer will split your text into words and punctuation properly without separating each character.\n",
    "#full stop would not be treated as a separated word "
   ]
  },
  {
   "cell_type": "code",
   "execution_count": null,
   "id": "5f6ff0bd-17c8-47f0-8f41-247437705f26",
   "metadata": {},
   "outputs": [],
   "source": []
  }
 ],
 "metadata": {
  "kernelspec": {
   "display_name": "Python 3 (ipykernel)",
   "language": "python",
   "name": "python3"
  },
  "language_info": {
   "codemirror_mode": {
    "name": "ipython",
    "version": 3
   },
   "file_extension": ".py",
   "mimetype": "text/x-python",
   "name": "python",
   "nbconvert_exporter": "python",
   "pygments_lexer": "ipython3",
   "version": "3.11.7"
  }
 },
 "nbformat": 4,
 "nbformat_minor": 5
}
