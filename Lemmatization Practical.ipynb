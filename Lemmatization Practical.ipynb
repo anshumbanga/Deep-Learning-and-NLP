{
 "cells": [
  {
   "cell_type": "markdown",
   "id": "7b9ee962-e64c-4dab-80fc-217f49340c53",
   "metadata": {},
   "source": [
    "### What is **Lemmatization**?\n",
    "\n",
    "**Lemmatization** is the process of reducing a word to its **base or dictionary form**, called a **lemma**. Unlike stemming, lemmatization uses **grammar and vocabulary** to find the proper word form.\n",
    "\n",
    "---\n",
    "\n",
    "### In Simple Words:\n",
    "\n",
    "It turns:\n",
    "- **“running” → “run”**\n",
    "- **“better” → “good”**\n",
    "- **“ate” → “eat”**\n",
    "\n",
    "### ✅ Advantages:\n",
    "- Gives **real words** as output.\n",
    "- More **accurate** than stemming.\n",
    "- **Understands part of speech (POS)** if you provide it.\n",
    "\n",
    "### ❌ Disadvantages:\n",
    "- **Slower** than stemming.\n",
    "- Needs **POS tagging** for best results.\n"
   ]
  },
  {
   "cell_type": "markdown",
   "id": "926eefb6-6bf8-449c-acd4-2c5daeab43c6",
   "metadata": {},
   "source": [
    "###  **WordNet Lemmatizer**?\n",
    "\n",
    "The **WordNet Lemmatizer** is a tool in **NLTK** that uses the **WordNet database** (a large lexical database of English) to convert words to their **base/dictionary form** (called **lemma**).\n",
    "\n",
    "---\n",
    "\n",
    "### ✅ In Simple Words:\n",
    "\n",
    "It changes:\n",
    "- **\"running\" → \"run\"**\n",
    "- **\"better\" → \"good\"** (only if correct POS is given)\n",
    "- **\"cars\" → \"car\"**\n",
    "\n",
    "It doesn’t just chop endings—it checks the **meaning and part of speech** too\n",
    "\n",
    "### Notes:\n",
    "- Default POS is **noun** if not provided.\n",
    "- Much smarter than basic stemmers.\n",
    "- Requires **POS tagging** for full accuracy.\n"
   ]
  },
  {
   "cell_type": "code",
   "execution_count": 1,
   "id": "5aabfcc7-81d7-4c59-8784-8e6382f69ffc",
   "metadata": {},
   "outputs": [],
   "source": [
    "# wordnet corpus \n",
    "\n",
    "from nltk.stem import WordNetLemmatizer"
   ]
  },
  {
   "cell_type": "code",
   "execution_count": 3,
   "id": "79795672-71c8-4e82-9bae-e259094ab0c0",
   "metadata": {},
   "outputs": [],
   "source": [
    "lemmatizer = WordNetLemmatizer()"
   ]
  },
  {
   "cell_type": "code",
   "execution_count": 6,
   "id": "5c89aa1e-06dd-4a61-ac2e-b48ec8cc0b06",
   "metadata": {},
   "outputs": [
    {
     "data": {
      "text/plain": [
       "'going'"
      ]
     },
     "execution_count": 6,
     "metadata": {},
     "output_type": "execute_result"
    }
   ],
   "source": [
    "lemmatizer.lemmatize('going',pos='n')"
   ]
  },
  {
   "cell_type": "markdown",
   "id": "aae83d0e-3f5b-428d-bbef-3c05526cc50b",
   "metadata": {},
   "source": [
    "### What are **POS Tags** (Part-of-Speech Tags)? \n",
    "**POS tags** tell us **what role a word plays** in a sentence — like whether it’s a **noun**, **verb**, **adjective**, etc.\n",
    "\n",
    "---\n",
    "\n",
    "### ✅ Examples:\n",
    "- **Noun (n)** → *dog, car, happiness*  \n",
    "- **Verb (v)** → *run, eat, is*  \n",
    "- **Adjective (a)** → *beautiful, big*  \n",
    "- **Adverb (r)** → *quickly, very*  \n",
    "- **Pronoun (PRP)** → *he, she, they*"
   ]
  },
  {
   "cell_type": "code",
   "execution_count": 7,
   "id": "ca17559a-e1c0-430b-bcfa-85f8175d9b29",
   "metadata": {},
   "outputs": [
    {
     "data": {
      "text/plain": [
       "'go'"
      ]
     },
     "execution_count": 7,
     "metadata": {},
     "output_type": "execute_result"
    }
   ],
   "source": [
    "lemmatizer.lemmatize('going',pos='v')"
   ]
  },
  {
   "cell_type": "code",
   "execution_count": 10,
   "id": "bd66b138-cdae-4eb4-ab77-6aeb4e7067db",
   "metadata": {},
   "outputs": [],
   "source": [
    "words = [\"running\", \"runs\", \"runner\", \"easily\", \"fairly\", \"played\", \"playing\", \"play\", \"better\", \"faster\", \"going\", \"gone\", \"ate\", \"eating\",\"programming\", \"programs\"]"
   ]
  },
  {
   "cell_type": "code",
   "execution_count": 12,
   "id": "7711362d-b9fb-4eb6-ade5-c363afabcf1a",
   "metadata": {},
   "outputs": [
    {
     "name": "stdout",
     "output_type": "stream",
     "text": [
      "['running', 'runs', 'runner', 'easily', 'fairly', 'played', 'playing', 'play', 'better', 'faster', 'going', 'gone', 'ate', 'eating', 'programming', 'programs']\n"
     ]
    }
   ],
   "source": [
    "print(word)"
   ]
  },
  {
   "cell_type": "code",
   "execution_count": 23,
   "id": "c4ad57a5-049e-4f9f-8694-5c4d6c988dff",
   "metadata": {},
   "outputs": [
    {
     "name": "stdout",
     "output_type": "stream",
     "text": [
      "running ----> run\n",
      "runs ----> run\n",
      "runner ----> runner\n",
      "easily ----> easily\n",
      "fairly ----> fairly\n",
      "played ----> play\n",
      "playing ----> play\n",
      "play ----> play\n",
      "better ----> better\n",
      "faster ----> faster\n",
      "going ----> go\n",
      "gone ----> go\n",
      "ate ----> eat\n",
      "eating ----> eat\n",
      "programming ----> program\n",
      "programs ----> program\n"
     ]
    }
   ],
   "source": [
    "for word in words:\n",
    "    print(word,'---->',lemmatizer.lemmatize(word,pos='v'))"
   ]
  },
  {
   "cell_type": "code",
   "execution_count": 25,
   "id": "d6ffb780-3dd1-434d-9855-caaddb15a77a",
   "metadata": {},
   "outputs": [
    {
     "name": "stdout",
     "output_type": "stream",
     "text": [
      "fairly ----> fairly\n"
     ]
    }
   ],
   "source": [
    "print('fairly','---->',lemmatizer.lemmatize('fairly',pos='v'))"
   ]
  },
  {
   "cell_type": "markdown",
   "id": "12d5c1dc-daf7-4340-ae47-c816ec569b5d",
   "metadata": {},
   "source": [
    "### Best for \n",
    "## Q&A, Chatbots and text summarisation"
   ]
  }
 ],
 "metadata": {
  "kernelspec": {
   "display_name": "Python 3 (ipykernel)",
   "language": "python",
   "name": "python3"
  },
  "language_info": {
   "codemirror_mode": {
    "name": "ipython",
    "version": 3
   },
   "file_extension": ".py",
   "mimetype": "text/x-python",
   "name": "python",
   "nbconvert_exporter": "python",
   "pygments_lexer": "ipython3",
   "version": "3.11.7"
  }
 },
 "nbformat": 4,
 "nbformat_minor": 5
}
