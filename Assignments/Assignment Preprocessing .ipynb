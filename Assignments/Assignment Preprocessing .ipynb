{
 "cells": [
  {
   "cell_type": "markdown",
   "id": "63636a75-d98f-489a-acff-667905d7ad30",
   "metadata": {},
   "source": [
    "\r\n",
    "\r",
    "# 📄 Sample Raw Text Paragraph (from a Product Review Forum):\r\n",
    "\r\n",
    "> *\"I absolutely LOVED this phone when I first bought it! The camera quality is mindblowing — totally beats my old Samsung 😤. But after 2 months, battery drains SO fast!!! Not worth ₹45,000. Also, why no charger in the box??? Makes no sense! Customer support was zero help… kept saying ‘pls update software’ like 5 times. Not buying from this brand again. 😡 Worst exp ever tbh. #disappointed #neveragain\"*\r\n",
    "\r\n",
    "-\r\n",
    "\r\n",
    "### ✅ What You Need to Do:\r\n",
    "\r\n",
    "Use this paragraph in your assignment for the following:\r\n",
    "\r\n",
    "1. **Tokenization:**\r\n",
    "\r\n",
    "   * Sentence tokenization (break into sentences)\r\n",
    "   * Word tokenization (break into words/tokens)\r\n",
    "\r\n",
    "2. **Stopword Removal:**\r\n",
    "\r\n",
    "   * Remove common stopwords (e.g., “this”, “is”, “the”)\r\n",
    "   * Also define domain-specific stopwords like “buy”, “phone”, etc.\r\n",
    "\r\n",
    "3. **Stemming and Lemmatization:**\r\n",
    "\r\n",
    "   * Apply both and show differences\r\n",
    "   * Highlight how slang or emojis cause issues\r\n",
    "\r\n",
    "4. **POS Tagging:**\r\n",
    "\r\n",
    "   * Identify adjectives, nouns, verbs\r\n",
    "   * Filter keywords like “battery”, “exp”, “support”, “camera”, etc.\r\n",
    "\r\n",
    "5. **Create Final Clean Output:**\r\n",
    "\r\n",
    "   * A cleaned version of the paragraph (token list)\r\n",
    "   * A separate list of keywords (nouns + adjectives)\r\n",
    "   * Final output should be used as inl (like tokenization, POS tagging, etc.)?\r\n"
   ]
  },
  {
   "cell_type": "code",
   "execution_count": 2,
   "id": "57e0dc92-d8a1-4e72-8022-b9c9403ec223",
   "metadata": {},
   "outputs": [],
   "source": [
    "paragraph = '''I absolutely LOVED this phone when I first bought it! The camera quality is mindblowing — totally beats my old Samsung 😤.\n",
    "But after 2 months, battery drains SO fast!!! Not worth ₹45,000. Also, why no charger in the box??? Makes no sense! Customer support was zero help… \n",
    "kept saying ‘pls update software’ like 5 times. Not buying from this brand again. Worst exp ever tbh. #disappointed #neveragain'''"
   ]
  },
  {
   "cell_type": "code",
   "execution_count": 3,
   "id": "0c4464bc-ddb3-4153-b5bb-a731d1868054",
   "metadata": {},
   "outputs": [
    {
     "name": "stdout",
     "output_type": "stream",
     "text": [
      "I absolutely LOVED this phone when I first bought it! The camera quality is mindblowing — totally beats my old Samsung 😤.\n",
      "But after 2 months, battery drains SO fast!!! Not worth ₹45,000. Also, why no charger in the box??? Makes no sense! Customer support was zero help… \n",
      "kept saying ‘pls update software’ like 5 times. Not buying from this brand again. Worst exp ever tbh. #disappointed #neveragain\n"
     ]
    }
   ],
   "source": [
    "print(paragraph)"
   ]
  },
  {
   "cell_type": "code",
   "execution_count": 4,
   "id": "8a1d3724-d212-4ee7-afb3-defa7755d97e",
   "metadata": {},
   "outputs": [],
   "source": [
    "# tokenisation \n",
    "\n",
    "import nltk "
   ]
  },
  {
   "cell_type": "code",
   "execution_count": 9,
   "id": "a7c9a1d7-14cd-447e-8928-745f53f74cd8",
   "metadata": {},
   "outputs": [
    {
     "name": "stdout",
     "output_type": "stream",
     "text": [
      "['I absolutely LOVED this phone when I first bought it!', 'The camera quality is mindblowing — totally beats my old Samsung 😤.', 'But after 2 months, battery drains SO fast!!!', 'Not worth ₹45,000.', 'Also, why no charger in the box???', 'Makes no sense!', 'Customer support was zero help… \\nkept saying ‘pls update software’ like 5 times.', 'Not buying from this brand again.', 'Worst exp ever tbh.', '#disappointed #neveragain']\n"
     ]
    }
   ],
   "source": [
    "sent = nltk.sent_tokenize(paragraph)\n",
    "print(sent)"
   ]
  },
  {
   "cell_type": "code",
   "execution_count": 10,
   "id": "fb040346-89ca-4598-9c6e-25fc333081f7",
   "metadata": {},
   "outputs": [
    {
     "name": "stderr",
     "output_type": "stream",
     "text": [
      "[nltk_data] Downloading package stopwords to C:\\Users\\Anshum\n",
      "[nltk_data]     Banga\\AppData\\Roaming\\nltk_data...\n",
      "[nltk_data]   Package stopwords is already up-to-date!\n"
     ]
    },
    {
     "data": {
      "text/plain": [
       "True"
      ]
     },
     "execution_count": 10,
     "metadata": {},
     "output_type": "execute_result"
    }
   ],
   "source": [
    "from nltk.corpus import stopwords\n",
    "nltk.download('stopwords')"
   ]
  },
  {
   "cell_type": "code",
   "execution_count": 14,
   "id": "812b17d1-c09a-496e-ac45-2b9cb20cb1e0",
   "metadata": {},
   "outputs": [],
   "source": [
    "swords = stopwords.words('english')"
   ]
  },
  {
   "cell_type": "code",
   "execution_count": 24,
   "id": "1d9fd0b7-72f6-45f7-a482-3cb3321572bc",
   "metadata": {},
   "outputs": [
    {
     "data": {
      "text/plain": [
       "['absolutely loved phone first bought !',\n",
       " 'camera quality mindblowing — totally beats old samsung 😤 .',\n",
       " '2 months , battery drains fast ! ! !',\n",
       " 'worth ₹45,000 .',\n",
       " 'also , charger box ? ? ?',\n",
       " 'makes sense !',\n",
       " 'customer support zero help… kept saying ‘ pls update software ’ like 5 times .',\n",
       " 'buying brand .',\n",
       " 'worst exp ever tbh .',\n",
       " '# disappointed # neveragain']"
      ]
     },
     "execution_count": 24,
     "metadata": {},
     "output_type": "execute_result"
    }
   ],
   "source": [
    "clean_list = []\n",
    "for i in range(len(sent)):\n",
    "    # print(sent[i])\n",
    "    stopwords_removal = [word.lower() for word in nltk.word_tokenize(sent[i]) if word.lower() not in swords]\n",
    "    line = ' '.join(stopwords_removal)\n",
    "    clean_list.append(line)\n",
    "clean_list"
   ]
  },
  {
   "cell_type": "code",
   "execution_count": 26,
   "id": "8a14f8a7-bfa9-4812-8bfd-aee90e200d39",
   "metadata": {},
   "outputs": [],
   "source": [
    "# now removing special characters \n",
    "\n",
    "import re "
   ]
  },
  {
   "cell_type": "code",
   "execution_count": 30,
   "id": "9c20713a-a59b-4290-b83d-e7006bc75807",
   "metadata": {},
   "outputs": [
    {
     "name": "stdout",
     "output_type": "stream",
     "text": [
      "absolutely loved phone first bought !\n",
      "camera quality mindblowing — totally beats old samsung 😤 .\n",
      "months , battery drains fast ! ! !\n",
      "worth ₹45,000 .\n",
      "also , charger box ? ? ?\n",
      "makes sense !\n",
      "customer support zero help… kept saying ‘ pls update software ’ like 5 times .\n",
      "buying brand .\n",
      "worst exp ever tbh .\n",
      "# disappointed # neveragain\n"
     ]
    }
   ],
   "source": [
    "# re.sub(pattern=['^\\w\\s]'],\n",
    "#       repl='',\n",
    "#       # string=)\n",
    "# not working \n",
    "for i in range(len(clean_list)):\n",
    "    # print(i)\n",
    "    no_punct = re.sub(pattern='^\\w\\s',repl='',string =clean_list[i])\n",
    "    print(no_punct)"
   ]
  },
  {
   "cell_type": "code",
   "execution_count": 31,
   "id": "ec9c04ac-33e4-4772-8e1a-fc6912370211",
   "metadata": {},
   "outputs": [
    {
     "name": "stdout",
     "output_type": "stream",
     "text": [
      "absolutely loved phone first bought \n",
      "camera quality mindblowing  totally beats old samsung  \n",
      "2 months  battery drains fast   \n",
      "worth 45000 \n",
      "also  charger box   \n",
      "makes sense \n",
      "customer support zero help kept saying  pls update software  like 5 times \n",
      "buying brand \n",
      "worst exp ever tbh \n",
      " disappointed  neveragain\n"
     ]
    }
   ],
   "source": [
    "cleaned_no_punct = []\n",
    "\n",
    "for line in clean_list:\n",
    "    # Remove all punctuation using regex\n",
    "    no_punct = re.sub(r'[^\\w\\s]', '', line)\n",
    "    cleaned_no_punct.append(no_punct)\n",
    "    print(no_punct)"
   ]
  },
  {
   "cell_type": "code",
   "execution_count": 35,
   "id": "6d4b0b1e-0181-4977-93e7-dc7710ab63ee",
   "metadata": {},
   "outputs": [],
   "source": [
    "clean_no_space = []\n",
    "for i in cleaned_no_punct:\n",
    "    # print(i)\n",
    "    # print(i.strip())\n",
    "    clean_no_space.append(i.strip())"
   ]
  },
  {
   "cell_type": "code",
   "execution_count": 36,
   "id": "c6b54ae5-ba2f-4350-9e89-3f14d30e612e",
   "metadata": {},
   "outputs": [
    {
     "data": {
      "text/plain": [
       "['absolutely loved phone first bought',\n",
       " 'camera quality mindblowing  totally beats old samsung',\n",
       " '2 months  battery drains fast',\n",
       " 'worth 45000',\n",
       " 'also  charger box',\n",
       " 'makes sense',\n",
       " 'customer support zero help kept saying  pls update software  like 5 times',\n",
       " 'buying brand',\n",
       " 'worst exp ever tbh',\n",
       " 'disappointed  neveragain']"
      ]
     },
     "execution_count": 36,
     "metadata": {},
     "output_type": "execute_result"
    }
   ],
   "source": [
    "clean_no_space"
   ]
  },
  {
   "cell_type": "code",
   "execution_count": 45,
   "id": "484a1f11-e315-46ed-bbe7-42522c648690",
   "metadata": {},
   "outputs": [],
   "source": [
    "# applying stemming \n",
    "\n",
    "from nltk.stem import SnowballStemmer\n",
    "stemmer = SnowballStemmer('english')"
   ]
  },
  {
   "cell_type": "code",
   "execution_count": 54,
   "id": "f8160a0f-da76-4d98-91a2-914fe32fd9f8",
   "metadata": {},
   "outputs": [
    {
     "data": {
      "text/plain": [
       "['absolut love phone first bought',\n",
       " 'camera qualiti mindblow total beat old samsung',\n",
       " '2 month batteri drain fast',\n",
       " 'worth 45000',\n",
       " 'also charger box',\n",
       " 'make sens',\n",
       " 'custom support zero help kept say pls updat softwar like 5 time',\n",
       " 'buy brand',\n",
       " 'worst exp ever tbh',\n",
       " 'disappoint neveragain']"
      ]
     },
     "execution_count": 54,
     "metadata": {},
     "output_type": "execute_result"
    }
   ],
   "source": [
    "# stemming_list = []\n",
    "# for i in range(len(clean_no_space)):\n",
    "#     for j in nltk.word_tokenize(clean_no_space[i]):\n",
    "        # word = stemmer.stem(j)\n",
    "        # print(stemmer.stem(j))\n",
    "    #     line = ' '.join(word)\n",
    "    # stemming_list.append(line)\n",
    "\n",
    "# stemming_list\n",
    "\n",
    "stemming_list = []\n",
    "\n",
    "for line in clean_no_space:\n",
    "    stemmed_words = [stemmer.stem(word) for word in nltk.word_tokenize(line)]\n",
    "    line = ' '.join(stemmed_words)\n",
    "    stemming_list.append(line)\n",
    "\n",
    "stemming_list"
   ]
  },
  {
   "cell_type": "code",
   "execution_count": 56,
   "id": "f7584330-2e77-42fc-b6f9-b666c48b037c",
   "metadata": {},
   "outputs": [
    {
     "data": {
      "text/plain": [
       "<WordNetLemmatizer>"
      ]
     },
     "execution_count": 56,
     "metadata": {},
     "output_type": "execute_result"
    }
   ],
   "source": [
    "from nltk.stem import WordNetLemmatizer\n",
    "lem = WordNetLemmatizer()\n",
    "lem"
   ]
  },
  {
   "cell_type": "code",
   "execution_count": 64,
   "id": "318a58dd-08d2-43ff-9df2-e45230311e3d",
   "metadata": {},
   "outputs": [
    {
     "data": {
      "text/plain": [
       "['absolutely love phone first buy',\n",
       " 'camera quality mindblowing totally beat old samsung',\n",
       " '2 months battery drain fast',\n",
       " 'worth 45000',\n",
       " 'also charger box',\n",
       " 'make sense',\n",
       " 'customer support zero help keep say pls update software like 5 time',\n",
       " 'buy brand',\n",
       " 'worst exp ever tbh',\n",
       " 'disappoint neveragain']"
      ]
     },
     "execution_count": 64,
     "metadata": {},
     "output_type": "execute_result"
    }
   ],
   "source": [
    "lem_list = []\n",
    "for i in clean_no_space:\n",
    "    word = [lem.lemmatize(word,pos='v') for word in nltk.word_tokenize(i)]\n",
    "    line = ' '.join(word)\n",
    "    lem_list.append(line)\n",
    "lem_list"
   ]
  },
  {
   "cell_type": "code",
   "execution_count": 65,
   "id": "5c003228-f2d8-40df-9ea3-d3979b001452",
   "metadata": {},
   "outputs": [
    {
     "data": {
      "text/plain": [
       "['absolutely love phone first buy',\n",
       " 'camera quality mindblowing totally beat old samsung',\n",
       " '2 months battery drain fast',\n",
       " 'worth 45000',\n",
       " 'also charger box',\n",
       " 'make sense',\n",
       " 'customer support zero help keep say pls update software like 5 time',\n",
       " 'buy brand',\n",
       " 'worst exp ever tbh',\n",
       " 'disappoint neveragain']"
      ]
     },
     "execution_count": 65,
     "metadata": {},
     "output_type": "execute_result"
    }
   ],
   "source": [
    "lem_list "
   ]
  },
  {
   "cell_type": "code",
   "execution_count": 83,
   "id": "e0af6571-f786-4e5a-9117-ed64dccc121e",
   "metadata": {},
   "outputs": [
    {
     "name": "stdout",
     "output_type": "stream",
     "text": [
      "[('absolutely', 'RB'), ('love', 'VB'), ('phone', 'NN'), ('first', 'RB'), ('buy', 'VB')]\n",
      "[('camera', 'NN'), ('quality', 'NN'), ('mindblowing', 'VBG'), ('totally', 'RB'), ('beat', 'JJ'), ('old', 'JJ'), ('samsung', 'NN')]\n",
      "[('2', 'CD'), ('months', 'NNS'), ('battery', 'RB'), ('drain', 'VBP'), ('fast', 'JJ')]\n",
      "[('worth', 'JJ'), ('45000', 'CD')]\n",
      "[('also', 'RB'), ('charger', 'NN'), ('box', 'NN')]\n",
      "[('make', 'NN'), ('sense', 'NN')]\n",
      "[('customer', 'NN'), ('support', 'NN'), ('zero', 'NN'), ('help', 'NN'), ('keep', 'VB'), ('say', 'VB'), ('pls', 'JJ'), ('update', 'JJ'), ('software', 'NN'), ('like', 'IN'), ('5', 'CD'), ('time', 'NN')]\n",
      "[('buy', 'NN'), ('brand', 'NN')]\n",
      "[('worst', 'JJS'), ('exp', 'NN'), ('ever', 'RB'), ('tbh', 'VBD')]\n",
      "[('disappoint', 'NN'), ('neveragain', 'NN')]\n"
     ]
    }
   ],
   "source": [
    "for i in lem_list:\n",
    "    l1 = nltk.word_tokenize(i)\n",
    "    nltk.pos_tag(l1)\n",
    "    print(nltk.pos_tag(l1))"
   ]
  },
  {
   "cell_type": "code",
   "execution_count": 85,
   "id": "d26d04f0-dc52-465b-9ee7-76aeba463ff8",
   "metadata": {},
   "outputs": [
    {
     "name": "stdout",
     "output_type": "stream",
     "text": [
      "[('absolutely', 'RB'), ('love', 'VB'), ('phone', 'NN'), ('first', 'RB'), ('buy', 'VB')]\n",
      "[('camera', 'NN'), ('quality', 'NN'), ('mindblowing', 'VBG'), ('totally', 'RB'), ('beat', 'JJ'), ('old', 'JJ'), ('samsung', 'NN')]\n",
      "[('2', 'CD'), ('months', 'NNS'), ('battery', 'RB'), ('drain', 'VBP'), ('fast', 'JJ')]\n",
      "[('worth', 'JJ'), ('45000', 'CD')]\n",
      "[('also', 'RB'), ('charger', 'NN'), ('box', 'NN')]\n",
      "[('make', 'NN'), ('sense', 'NN')]\n",
      "[('customer', 'NN'), ('support', 'NN'), ('zero', 'NN'), ('help', 'NN'), ('keep', 'VB'), ('say', 'VB'), ('pls', 'JJ'), ('update', 'JJ'), ('software', 'NN'), ('like', 'IN'), ('5', 'CD'), ('time', 'NN')]\n",
      "[('buy', 'NN'), ('brand', 'NN')]\n",
      "[('worst', 'JJS'), ('exp', 'NN'), ('ever', 'RB'), ('tbh', 'VBD')]\n",
      "[('disappoint', 'NN'), ('neveragain', 'NN')]\n"
     ]
    }
   ],
   "source": [
    "pos_tagged_list = []\n",
    "\n",
    "for sentence in lem_list:\n",
    "    tokens = nltk.word_tokenize(sentence)\n",
    "    tagged = nltk.pos_tag(tokens)\n",
    "    pos_tagged_list.append(tagged)\n",
    "    print(tagged)"
   ]
  },
  {
   "cell_type": "code",
   "execution_count": 86,
   "id": "29612762-31bc-41ba-91d9-4aa0c26a862c",
   "metadata": {},
   "outputs": [
    {
     "data": {
      "text/plain": [
       "[[('absolutely', 'RB'),\n",
       "  ('love', 'VB'),\n",
       "  ('phone', 'NN'),\n",
       "  ('first', 'RB'),\n",
       "  ('buy', 'VB')],\n",
       " [('camera', 'NN'),\n",
       "  ('quality', 'NN'),\n",
       "  ('mindblowing', 'VBG'),\n",
       "  ('totally', 'RB'),\n",
       "  ('beat', 'JJ'),\n",
       "  ('old', 'JJ'),\n",
       "  ('samsung', 'NN')],\n",
       " [('2', 'CD'),\n",
       "  ('months', 'NNS'),\n",
       "  ('battery', 'RB'),\n",
       "  ('drain', 'VBP'),\n",
       "  ('fast', 'JJ')],\n",
       " [('worth', 'JJ'), ('45000', 'CD')],\n",
       " [('also', 'RB'), ('charger', 'NN'), ('box', 'NN')],\n",
       " [('make', 'NN'), ('sense', 'NN')],\n",
       " [('customer', 'NN'),\n",
       "  ('support', 'NN'),\n",
       "  ('zero', 'NN'),\n",
       "  ('help', 'NN'),\n",
       "  ('keep', 'VB'),\n",
       "  ('say', 'VB'),\n",
       "  ('pls', 'JJ'),\n",
       "  ('update', 'JJ'),\n",
       "  ('software', 'NN'),\n",
       "  ('like', 'IN'),\n",
       "  ('5', 'CD'),\n",
       "  ('time', 'NN')],\n",
       " [('buy', 'NN'), ('brand', 'NN')],\n",
       " [('worst', 'JJS'), ('exp', 'NN'), ('ever', 'RB'), ('tbh', 'VBD')],\n",
       " [('disappoint', 'NN'), ('neveragain', 'NN')]]"
      ]
     },
     "execution_count": 86,
     "metadata": {},
     "output_type": "execute_result"
    }
   ],
   "source": [
    "pos_tagged_list"
   ]
  },
  {
   "cell_type": "code",
   "execution_count": 89,
   "id": "1e15618a-838d-4f69-8cfe-d9c72b37255b",
   "metadata": {},
   "outputs": [],
   "source": [
    "noun_ad = []\n",
    "for k in pos_tagged_list:\n",
    "    for i,j in k:\n",
    "        # print(i,j)\n",
    "        if j=='NN' or j=='JJ':\n",
    "            noun_ad.append((i,j))"
   ]
  },
  {
   "cell_type": "code",
   "execution_count": 90,
   "id": "bd7bfa95-13c8-415e-a621-fd18e98761dd",
   "metadata": {},
   "outputs": [
    {
     "data": {
      "text/plain": [
       "[('phone', 'NN'),\n",
       " ('camera', 'NN'),\n",
       " ('quality', 'NN'),\n",
       " ('beat', 'JJ'),\n",
       " ('old', 'JJ'),\n",
       " ('samsung', 'NN'),\n",
       " ('fast', 'JJ'),\n",
       " ('worth', 'JJ'),\n",
       " ('charger', 'NN'),\n",
       " ('box', 'NN'),\n",
       " ('make', 'NN'),\n",
       " ('sense', 'NN'),\n",
       " ('customer', 'NN'),\n",
       " ('support', 'NN'),\n",
       " ('zero', 'NN'),\n",
       " ('help', 'NN'),\n",
       " ('pls', 'JJ'),\n",
       " ('update', 'JJ'),\n",
       " ('software', 'NN'),\n",
       " ('time', 'NN'),\n",
       " ('buy', 'NN'),\n",
       " ('brand', 'NN'),\n",
       " ('exp', 'NN'),\n",
       " ('disappoint', 'NN'),\n",
       " ('neveragain', 'NN')]"
      ]
     },
     "execution_count": 90,
     "metadata": {},
     "output_type": "execute_result"
    }
   ],
   "source": [
    "noun_ad"
   ]
  },
  {
   "cell_type": "markdown",
   "id": "169512b3-e551-46a5-a0cc-19c5986c37ca",
   "metadata": {},
   "source": [
    "# A cleaned version of the paragraph (token list)"
   ]
  },
  {
   "cell_type": "code",
   "execution_count": 93,
   "id": "82b07721-fdd0-4c9e-a32f-c3469a89a216",
   "metadata": {},
   "outputs": [
    {
     "data": {
      "text/plain": [
       "[[('absolutely', 'RB'),\n",
       "  ('love', 'VB'),\n",
       "  ('phone', 'NN'),\n",
       "  ('first', 'RB'),\n",
       "  ('buy', 'VB')],\n",
       " [('camera', 'NN'),\n",
       "  ('quality', 'NN'),\n",
       "  ('mindblowing', 'VBG'),\n",
       "  ('totally', 'RB'),\n",
       "  ('beat', 'JJ'),\n",
       "  ('old', 'JJ'),\n",
       "  ('samsung', 'NN')],\n",
       " [('2', 'CD'),\n",
       "  ('months', 'NNS'),\n",
       "  ('battery', 'RB'),\n",
       "  ('drain', 'VBP'),\n",
       "  ('fast', 'JJ')],\n",
       " [('worth', 'JJ'), ('45000', 'CD')],\n",
       " [('also', 'RB'), ('charger', 'NN'), ('box', 'NN')],\n",
       " [('make', 'NN'), ('sense', 'NN')],\n",
       " [('customer', 'NN'),\n",
       "  ('support', 'NN'),\n",
       "  ('zero', 'NN'),\n",
       "  ('help', 'NN'),\n",
       "  ('keep', 'VB'),\n",
       "  ('say', 'VB'),\n",
       "  ('pls', 'JJ'),\n",
       "  ('update', 'JJ'),\n",
       "  ('software', 'NN'),\n",
       "  ('like', 'IN'),\n",
       "  ('5', 'CD'),\n",
       "  ('time', 'NN')],\n",
       " [('buy', 'NN'), ('brand', 'NN')],\n",
       " [('worst', 'JJS'), ('exp', 'NN'), ('ever', 'RB'), ('tbh', 'VBD')],\n",
       " [('disappoint', 'NN'), ('neveragain', 'NN')]]"
      ]
     },
     "execution_count": 93,
     "metadata": {},
     "output_type": "execute_result"
    }
   ],
   "source": [
    "pos_tagged_list"
   ]
  },
  {
   "cell_type": "markdown",
   "id": "9c2ec8d1-33f9-4155-b1a9-797c622a05a2",
   "metadata": {},
   "source": [
    "# A separate list of keywords (nouns + adjectives)"
   ]
  },
  {
   "cell_type": "code",
   "execution_count": 94,
   "id": "4bc66e15-2606-46c9-94d7-31cc5611b5db",
   "metadata": {},
   "outputs": [
    {
     "data": {
      "text/plain": [
       "[('phone', 'NN'),\n",
       " ('camera', 'NN'),\n",
       " ('quality', 'NN'),\n",
       " ('beat', 'JJ'),\n",
       " ('old', 'JJ'),\n",
       " ('samsung', 'NN'),\n",
       " ('fast', 'JJ'),\n",
       " ('worth', 'JJ'),\n",
       " ('charger', 'NN'),\n",
       " ('box', 'NN'),\n",
       " ('make', 'NN'),\n",
       " ('sense', 'NN'),\n",
       " ('customer', 'NN'),\n",
       " ('support', 'NN'),\n",
       " ('zero', 'NN'),\n",
       " ('help', 'NN'),\n",
       " ('pls', 'JJ'),\n",
       " ('update', 'JJ'),\n",
       " ('software', 'NN'),\n",
       " ('time', 'NN'),\n",
       " ('buy', 'NN'),\n",
       " ('brand', 'NN'),\n",
       " ('exp', 'NN'),\n",
       " ('disappoint', 'NN'),\n",
       " ('neveragain', 'NN')]"
      ]
     },
     "execution_count": 94,
     "metadata": {},
     "output_type": "execute_result"
    }
   ],
   "source": [
    "noun_ad"
   ]
  },
  {
   "cell_type": "markdown",
   "id": "dc1fb1fb-a6e6-4bf3-8e0d-21a850045b64",
   "metadata": {},
   "source": [
    "# Final output should be used as input for a hypothetical sentiment model"
   ]
  },
  {
   "cell_type": "code",
   "execution_count": 101,
   "id": "a6048124-b55c-4bc4-bbea-cae4b41866c1",
   "metadata": {},
   "outputs": [
    {
     "data": {
      "text/plain": [
       "'absolutely love phone first buy camera quality mindblowing totally beat old samsung 2 months battery drain fast worth 45000 also charger box make sense customer support zero help keep say pls update software like 5 time buy brand worst exp ever tbh disappoint neveragain'"
      ]
     },
     "execution_count": 101,
     "metadata": {},
     "output_type": "execute_result"
    }
   ],
   "source": [
    "final_line = ' '.join(lem_list)\n",
    "final_line"
   ]
  },
  {
   "cell_type": "code",
   "execution_count": null,
   "id": "2272ba16-ceb9-4b5a-ab15-17380e8e8f50",
   "metadata": {},
   "outputs": [],
   "source": []
  },
  {
   "cell_type": "code",
   "execution_count": null,
   "id": "876bd4a1-976d-44ee-8a2f-ee9726109b92",
   "metadata": {},
   "outputs": [],
   "source": []
  }
 ],
 "metadata": {
  "kernelspec": {
   "display_name": "Python 3 (ipykernel)",
   "language": "python",
   "name": "python3"
  },
  "language_info": {
   "codemirror_mode": {
    "name": "ipython",
    "version": 3
   },
   "file_extension": ".py",
   "mimetype": "text/x-python",
   "name": "python",
   "nbconvert_exporter": "python",
   "pygments_lexer": "ipython3",
   "version": "3.11.7"
  }
 },
 "nbformat": 4,
 "nbformat_minor": 5
}
