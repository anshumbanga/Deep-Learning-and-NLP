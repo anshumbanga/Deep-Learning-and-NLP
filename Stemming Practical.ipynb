{
 "cells": [
  {
   "cell_type": "markdown",
   "id": "012722b8-4f25-4cec-9737-c8cd8b584750",
   "metadata": {},
   "source": [
    "# Stemming \n",
    "**Stemming** is a process used in Natural Language Processing (NLP) to reduce words to their root or base form. The main idea is to remove suffixes (like *-ing*, *-ed*, *-ly*) so that different variations of a word can be treated as the same. For example, words like **\"playing,\" \"played,\"** and **\"plays\"** all come from the base word **\"play\"** — stemming reduces them to that root. This helps machines understand that those words carry the same core meaning, even though they look different. However, stemming doesn’t always produce real words — for instance, \"connection\" might be stemmed to \"connect,\" but \"better\" might turn into \"bet.\" It’s a rough, rule-based approach to normalize words and is especially helpful when building search engines, text classification systems, or chatbots where matching similar word meanings is important."
   ]
  },
  {
   "cell_type": "code",
   "execution_count": 3,
   "id": "73d41ff0-af9d-4a44-80bb-cf68461fef13",
   "metadata": {},
   "outputs": [],
   "source": [
    "# Sentiment analysis: checking whether product comments are positive or negative.\n",
    "# Words in reviews can appear in different forms like eating, eaten, eat — or going, gone, goes.\n",
    "# Every word gets converted into a vector (a numeric representation).\n",
    "# Instead of treating all similar words separately, we simplify them to a common base — for example, \"go\" instead of \"goes\" or \"gone\"."
   ]
  },
  {
   "cell_type": "code",
   "execution_count": 2,
   "id": "78441d7c-1048-44be-8a3e-b096e01172ac",
   "metadata": {},
   "outputs": [],
   "source": [
    "words = [\"running\", \"runs\", \"runner\", \"easily\", \"fairly\", \"played\", \"playing\", \"play\", \"better\", \"faster\", \"going\", \"gone\", \"ate\", \"eating\",\"programming\", \"programs\"]"
   ]
  },
  {
   "cell_type": "markdown",
   "id": "389089fc-b388-404a-9cb3-00eef29e0481",
   "metadata": {},
   "source": [
    "# Porterstemmer \n",
    "The **Porter Stemmer** is one of the most widely used stemming algorithms in Natural Language Processing (NLP). It was developed by **Martin Porter** in 1980, and its main job is to **reduce words to their root or base form** by removing common suffixes like *-ing*, *-ed*, *-es*, *-ly*, etc.\n",
    "\n",
    "---\n",
    "\n",
    "###  Simple Explanation:\n",
    "When we analyze text, we often find many variations of the same word. For example:\n",
    "- \"connect\", \"connected\", \"connecting\", \"connection\"\n",
    "\n",
    "All of these words carry the same core idea — so instead of treating them as separate words, **Porter Stemmer** reduces them to a common root (in this case, **\"connect\"**), making analysis more consistent."
   ]
  },
  {
   "cell_type": "code",
   "execution_count": 4,
   "id": "e33481d7-1995-4051-a62c-51498287a46b",
   "metadata": {},
   "outputs": [
    {
     "data": {
      "text/plain": [
       "<PorterStemmer>"
      ]
     },
     "execution_count": 4,
     "metadata": {},
     "output_type": "execute_result"
    }
   ],
   "source": [
    "from nltk.stem import PorterStemmer\n",
    "stemming = PorterStemmer()\n",
    "stemming"
   ]
  },
  {
   "cell_type": "code",
   "execution_count": 11,
   "id": "8c8dc959-8934-4c18-aa12-da6f2d0edd9d",
   "metadata": {},
   "outputs": [
    {
     "name": "stdout",
     "output_type": "stream",
     "text": [
      "running ----> run\n",
      "runs ----> run\n",
      "runner ----> runner\n",
      "easily ----> easili\n",
      "fairly ----> fairli\n",
      "played ----> play\n",
      "playing ----> play\n",
      "play ----> play\n",
      "better ----> better\n",
      "faster ----> faster\n",
      "going ----> go\n",
      "gone ----> gone\n",
      "ate ----> ate\n",
      "eating ----> eat\n",
      "programming ----> program\n",
      "programs ----> program\n"
     ]
    }
   ],
   "source": [
    "for word in words:\n",
    "    print(word,'---->',stemming.stem(word))"
   ]
  },
  {
   "cell_type": "markdown",
   "id": "8f14d445-feb1-498a-9aa1-68912f546c35",
   "metadata": {},
   "source": [
    "### ✅ **Advantages of Porter Stemmer:**\n",
    "- Reduces different word forms to a common base (e.g., *playing → play*).\n",
    "- Speeds up processing by reducing vocabulary size.\n",
    "- Good for search engines and basic NLP tasks.\n",
    "- Fast and easy to use.\n",
    "\n",
    "---\n",
    "\n",
    "### ❌ **Disadvantages:**\n",
    "- Sometimes gives incorrect stems (*easily → easili*).\n",
    "- Doesn’t always reduce similar words (*run* ≠ *runner*).\n",
    "- Output may not be real words.\n",
    "- Only works well for English.\n"
   ]
  },
  {
   "cell_type": "code",
   "execution_count": 13,
   "id": "80f7125c-fff6-4a68-aaa6-f1aea6b07e1d",
   "metadata": {},
   "outputs": [
    {
     "data": {
      "text/plain": [
       "'congratul'"
      ]
     },
     "execution_count": 13,
     "metadata": {},
     "output_type": "execute_result"
    }
   ],
   "source": [
    "stemming.stem('congratulations')\n",
    "# changing the form of the word, which does not having a meaning"
   ]
  },
  {
   "cell_type": "markdown",
   "id": "e7bf19e1-779a-4f8b-8f2b-af74972eb005",
   "metadata": {},
   "source": [
    "The **`RegexpStemmer`** (short for *Regular Expression Stemmer*) is a class in the **NLTK** library that lets you perform **custom stemming** using **regular expression (regex) rules**. Unlike rule-based stemmers like Porter or Snowball, which have pre-defined logic, `RegexpStemmer` gives you full control to define **which patterns to strip** from the ends of words.\n",
    "\n",
    "---\n",
    "\n",
    "### Simple Explanation:\n",
    "\n",
    "Imagine you want to remove specific endings like `\"ing\"`, `\"ly\"`, or `\"ed\"` from words. Instead of relying on built-in stemmers, you can **define your own rules using regex** — and `RegexpStemmer` will apply those.\n",
    "\n",
    "### Parameters:\n",
    "- `pattern='ing$|ed$|ly$'`: Regex pattern to match suffixes at the end of words.\n",
    "- `min=4`: Minimum length a word must have **after** removing the suffix — prevents over-stemming short words.\n",
    "\n",
    "\n",
    "### Use Case:\n",
    "Best when you:\n",
    "- Want **simple**, rule-based stemming.\n",
    "- Need to **customize** what gets stripped off.\n",
    "- Want **more control** than Porter or Snowball stemmers provide."
   ]
  },
  {
   "cell_type": "code",
   "execution_count": 14,
   "id": "7578fa30-5538-44d3-b43e-cb913ed32a5a",
   "metadata": {},
   "outputs": [],
   "source": [
    "from nltk.stem import RegexpStemmer"
   ]
  },
  {
   "cell_type": "code",
   "execution_count": 27,
   "id": "b3fad550-81fb-438c-b1fe-0ce2505f830a",
   "metadata": {},
   "outputs": [],
   "source": [
    "reg_stemmer = RegexpStemmer('ing$|s$|e$|able$',min=4)"
   ]
  },
  {
   "cell_type": "code",
   "execution_count": 28,
   "id": "e769d786-9997-403a-ade7-e170c28986be",
   "metadata": {},
   "outputs": [
    {
     "data": {
      "text/plain": [
       "<RegexpStemmer: 'ing$|s$|e$|able$'>"
      ]
     },
     "execution_count": 28,
     "metadata": {},
     "output_type": "execute_result"
    }
   ],
   "source": [
    "reg_stemmer"
   ]
  },
  {
   "cell_type": "code",
   "execution_count": 29,
   "id": "1dc2ded9-f24d-48de-8669-e5b8fe104290",
   "metadata": {},
   "outputs": [
    {
     "name": "stdout",
     "output_type": "stream",
     "text": [
      "eat\n",
      "eat\n",
      "eat\n",
      "ingeat\n",
      "discret\n"
     ]
    }
   ],
   "source": [
    "print(reg_stemmer.stem('eating'))\n",
    "print(reg_stemmer.stem('eatable'))\n",
    "print(reg_stemmer.stem('eats'))\n",
    "print(reg_stemmer.stem('ingeating'))\n",
    "print(reg_stemmer.stem('discrete'))"
   ]
  },
  {
   "cell_type": "code",
   "execution_count": 30,
   "id": "0a785844-2f2d-41fe-b80d-e4af6e8500b8",
   "metadata": {},
   "outputs": [
    {
     "name": "stdout",
     "output_type": "stream",
     "text": [
      "eat\n"
     ]
    }
   ],
   "source": [
    "reg_stemmer = RegexpStemmer('ing|s$|e$|able$',min=4)\n",
    "print(reg_stemmer.stem('ingeating'))"
   ]
  },
  {
   "cell_type": "markdown",
   "id": "388bb5ec-ce55-4d54-a5fe-35d7f0d0eb44",
   "metadata": {},
   "source": [
    "### ❄️ **Snowball Stemmer (also called Porter2 Stemmer)**\n",
    "\n",
    "The **Snowball Stemmer** is an **improved version of the Porter Stemmer**, developed by **Martin Porter** himself. It’s more consistent and accurate than the original Porter stemmer and supports **multiple languages**.\n",
    "\n",
    "---\n",
    "\n",
    "### In Simple Words:\n",
    "Snowball stemmer cuts words down to their **root form**, just like Porter stemmer, but it does it **more cleanly** and with **fewer mistakes**.\n",
    "\n",
    "### ✅ Advantages:\n",
    "- More accurate than Porter Stemmer\n",
    "- Supports many languages (French, German, Spanish, etc.)\n",
    "- Produces more consistent results\n",
    "\n",
    "### ❌ Disadvantages:\n",
    "- Slightly slower than Porter stemmer\n",
    "- Still may not return real dictionary words\n"
   ]
  },
  {
   "cell_type": "code",
   "execution_count": 32,
   "id": "726fb609-6ccc-497d-8275-400b8e14bfb8",
   "metadata": {},
   "outputs": [],
   "source": [
    "from nltk.stem import SnowballStemmer"
   ]
  },
  {
   "cell_type": "code",
   "execution_count": 35,
   "id": "cd8bb57f-c3e1-4065-ba1c-6cee51c6283b",
   "metadata": {},
   "outputs": [],
   "source": [
    "snowballstemmer = SnowballStemmer(language='english')"
   ]
  },
  {
   "cell_type": "code",
   "execution_count": 36,
   "id": "0f6c13b7-f1bf-463e-990c-5627da7cd2db",
   "metadata": {},
   "outputs": [
    {
     "data": {
      "text/plain": [
       "<nltk.stem.snowball.SnowballStemmer at 0x267b3c78dd0>"
      ]
     },
     "execution_count": 36,
     "metadata": {},
     "output_type": "execute_result"
    }
   ],
   "source": [
    "snowballstemmer"
   ]
  },
  {
   "cell_type": "code",
   "execution_count": 39,
   "id": "d9d9397b-a8d6-45a5-975a-ba5408e373be",
   "metadata": {},
   "outputs": [
    {
     "name": "stdout",
     "output_type": "stream",
     "text": [
      "running ---> run\n",
      "runs ---> run\n",
      "runner ---> runner\n",
      "easily ---> easili\n",
      "fairly ---> fair\n",
      "played ---> play\n",
      "playing ---> play\n",
      "play ---> play\n",
      "better ---> better\n",
      "faster ---> faster\n",
      "going ---> go\n",
      "gone ---> gone\n",
      "ate ---> ate\n",
      "eating ---> eat\n",
      "programming ---> program\n",
      "programs ---> program\n"
     ]
    }
   ],
   "source": [
    "for word in words:\n",
    "    print(word,'--->',snowballstemmer.stem(word))"
   ]
  },
  {
   "cell_type": "code",
   "execution_count": 44,
   "id": "fc940171-af8e-4ccc-a8e5-7ee5ce91224f",
   "metadata": {},
   "outputs": [
    {
     "name": "stdout",
     "output_type": "stream",
     "text": [
      "with porter stemmer\t fairli\n",
      "----------------------------------------------------------------------------------------------------\n",
      "with snowball stemmer\t fair\n"
     ]
    }
   ],
   "source": [
    "print('with porter stemmer\\t',stemming.stem('fairly'))\n",
    "print('-'*100)\n",
    "print('with snowball stemmer\\t',snowballstemmer.stem('fairly'))"
   ]
  },
  {
   "cell_type": "code",
   "execution_count": 48,
   "id": "ffac5e67-d2bf-45d5-afb0-9948d8f6e2cf",
   "metadata": {},
   "outputs": [
    {
     "name": "stdout",
     "output_type": "stream",
     "text": [
      "but not works best on all words\n",
      "\n",
      "with porter stemmer\t goe\n",
      "----------------------------------------------------------------------------------------------------\n",
      "with snowball stemmer\t goe\n"
     ]
    }
   ],
   "source": [
    "print('but not works best on all words\\n')\n",
    "\n",
    "print('with porter stemmer\\t',stemming.stem('goes'))\n",
    "print('-'*100)\n",
    "print('with snowball stemmer\\t',snowballstemmer.stem('goes'))"
   ]
  },
  {
   "cell_type": "code",
   "execution_count": null,
   "id": "b821d704-2853-4358-ba04-556d70883f5b",
   "metadata": {},
   "outputs": [],
   "source": []
  }
 ],
 "metadata": {
  "kernelspec": {
   "display_name": "Python 3 (ipykernel)",
   "language": "python",
   "name": "python3"
  },
  "language_info": {
   "codemirror_mode": {
    "name": "ipython",
    "version": 3
   },
   "file_extension": ".py",
   "mimetype": "text/x-python",
   "name": "python",
   "nbconvert_exporter": "python",
   "pygments_lexer": "ipython3",
   "version": "3.11.7"
  }
 },
 "nbformat": 4,
 "nbformat_minor": 5
}
